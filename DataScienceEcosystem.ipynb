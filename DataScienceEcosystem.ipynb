{
  "nbformat": 4,
  "nbformat_minor": 0,
  "metadata": {
    "colab": {
      "provenance": []
    },
    "kernelspec": {
      "name": "python3",
      "display_name": "Python 3"
    },
    "language_info": {
      "name": "python"
    }
  },
  "cells": [
    {
      "cell_type": "markdown",
      "source": [
        "# Data Science Tools and Ecosystem"
      ],
      "metadata": {
        "id": "yx_uL4WwA_GG"
      }
    },
    {
      "cell_type": "markdown",
      "source": [
        "# In this notebook, Data Science Tools and Ecosystem are summarized.\n"
      ],
      "metadata": {
        "id": "8-XzQcmKCJS3"
      }
    },
    {
      "cell_type": "markdown",
      "source": [
        "Some of the popular languages that Data Scientists use are:\n",
        "* R\n",
        "* Python\n",
        "* Sql"
      ],
      "metadata": {
        "id": "nPflmDlGBRit"
      }
    },
    {
      "cell_type": "markdown",
      "source": [
        "Some of the commonly used libraries used by Data Scientists include:\n",
        "* pyTorch\n",
        "* plotly\n",
        "* matplotlib"
      ],
      "metadata": {
        "id": "KEyB4Dp6CjWg"
      }
    },
    {
      "cell_type": "markdown",
      "source": [
        "Data Science Tools\n",
        "* Git\n",
        "* JupyterLite\n",
        "* Colab"
      ],
      "metadata": {
        "id": "ojuQ02XQDAME"
      }
    },
    {
      "cell_type": "markdown",
      "source": [
        "### Below are a few examples of evaluating arithmetic expressions in Python."
      ],
      "metadata": {
        "id": "H341N831Fl6i"
      }
    },
    {
      "cell_type": "code",
      "source": [
        "(3*4)+5"
      ],
      "metadata": {
        "colab": {
          "base_uri": "https://localhost:8080/"
        },
        "id": "6BONxDRTBe8E",
        "outputId": "260debb1-db98-409e-db03-a339e3c5a807"
      },
      "execution_count": 2,
      "outputs": [
        {
          "output_type": "execute_result",
          "data": {
            "text/plain": [
              "17"
            ]
          },
          "metadata": {},
          "execution_count": 2
        }
      ]
    },
    {
      "cell_type": "markdown",
      "source": [],
      "metadata": {
        "id": "bFCt34UDBdTD"
      }
    },
    {
      "cell_type": "code",
      "source": [
        "# This will convert 200 minutes to hours by diving by 60\n",
        "\n",
        "200/60"
      ],
      "metadata": {
        "colab": {
          "base_uri": "https://localhost:8080/"
        },
        "id": "OsYcRQZTBhGf",
        "outputId": "433076a4-fa57-4e03-873f-de215d4a8d94"
      },
      "execution_count": 3,
      "outputs": [
        {
          "output_type": "execute_result",
          "data": {
            "text/plain": [
              "3.3333333333333335"
            ]
          },
          "metadata": {},
          "execution_count": 3
        }
      ]
    },
    {
      "cell_type": "markdown",
      "source": [
        "**Objectives:**\n",
        "\n",
        "* Basic calculations\n",
        "* Structure and use of Git * Github\n",
        "* Importance of communication\n"
      ],
      "metadata": {
        "id": "R-Hlc_CFBJiE"
      }
    },
    {
      "cell_type": "markdown",
      "source": [
        "## Author: Michael Lefsky"
      ],
      "metadata": {
        "id": "uX3APLSqBoYi"
      }
    }
  ]
}